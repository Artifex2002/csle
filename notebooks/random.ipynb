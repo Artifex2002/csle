{
 "cells": [
  {
   "cell_type": "code",
   "execution_count": 1,
   "metadata": {},
   "outputs": [],
   "source": [
    "import matplotlib.pyplot as plt\n",
    "import numpy as np\n",
    "import pandas as pd\n",
    "%matplotlib inline"
   ]
  },
  {
   "cell_type": "code",
   "execution_count": 45,
   "metadata": {},
   "outputs": [],
   "source": [
    "def plot_rewards(rewards_means, non_opt_rewards, x_coords, file_name, markevery=5):\n",
    "    plt.rc('text', usetex=True)\n",
    "    plt.rc('text.latex', preamble=r'\\usepackage{amsfonts}')\n",
    "    fig, ax = plt.subplots(nrows=1, ncols=1, figsize=(6, 4.5))\n",
    "    plt.rcParams.update({'font.size': 12})\n",
    "\n",
    "    # ylims = (0, 920)\n",
    "\n",
    "    # Plot Rewards\n",
    "    ax.plot(np.array(x_coords),\n",
    "               rewards_means, label=r\"PPO $\\pi_{\\theta}$\", marker=\"o\", ls='-', color=\"r\",\n",
    "               markevery=markevery)\n",
    "    \n",
    "    #ax.plot(np.array(x_coords),\n",
    "    #           non_opt_rewards, label=\"Non-Optimized Env\", marker=\"s\", ls='-', color=\"#661D98\",\n",
    "    #           markevery=markevery)\n",
    "    optimal_reward = 50\n",
    "    ax.plot(np.array(x_coords),\n",
    "               [optimal_reward] * len(x_coords), label=r\"$\\pi^{*}$\",\n",
    "               color=\"black\",\n",
    "               linestyle=\"dashed\")\n",
    "    ax.fill_between(np.array(x_coords),\n",
    "                       rewards_means, [optimal_reward] * len(x_coords),\n",
    "                       alpha=0.35, color=\"#599ad3\")\n",
    "\n",
    "    ax.set_title(\"Episodic Rewards\")\n",
    "    ax.set_xlabel(\"\\# Iteration\", fontsize=20)\n",
    "    ax.set_ylabel(\"Avg Episode Reward\", fontsize=20)\n",
    "    ax.set_xlim(0, len(x_coords))\n",
    "    # ax[0].set_ylim(0, 0.75)\n",
    "\n",
    "    # set the grid on\n",
    "    ax.grid('on')\n",
    "\n",
    "    # tweak the axis labels\n",
    "    xlab = ax.xaxis.get_label()\n",
    "    ylab = ax.yaxis.get_label()\n",
    "\n",
    "    xlab.set_size(10)\n",
    "    ylab.set_size(10)\n",
    "\n",
    "    # change the color of the top and right spines to opaque gray\n",
    "    ax.spines['right'].set_color((.8, .8, .8))\n",
    "    ax.spines['top'].set_color((.8, .8, .8))\n",
    "\n",
    "    #ax.legend(loc=\"lower right\")\n",
    "\n",
    "    ax.xaxis.label.set_size(13.5)\n",
    "    ax.yaxis.label.set_size(13.5)\n",
    "    \n",
    "    ax.legend(loc='upper center', bbox_to_anchor=(0.5, -0.18),\n",
    "              ncol=3, fancybox=True, shadow=True)\n",
    "\n",
    "    # ax[0].set_ylim(0, 1)\n",
    "    # ax[1].set_ylim(0, 1)\n",
    "    # ax[2].set_ylim(0, 1)\n",
    "\n",
    "    fig.tight_layout()\n",
    "    plt.show()\n",
    "    # plt.subplots_adjust(wspace=0, hspace=0)\n",
    "    #fig.savefig(file_name + \".png\", format=\"png\", dpi=600)\n",
    "    fig.savefig(file_name + \".pdf\", format='pdf', dpi=600, bbox_inches='tight', transparent=True)\n",
    "    #plt.close(fig)"
   ]
  },
  {
   "cell_type": "code",
   "execution_count": 31,
   "metadata": {},
   "outputs": [],
   "source": [
    "def plot_rewards_2(rewards_means, non_opt_rewards, x_coords, file_name, markevery=5):\n",
    "    plt.rc('text', usetex=True)\n",
    "    plt.rc('text.latex', preamble=r'\\usepackage{amsfonts}')\n",
    "    fig, ax = plt.subplots(nrows=1, ncols=1, figsize=(6, 4.5))\n",
    "    plt.rcParams.update({'font.size': 12})\n",
    "\n",
    "    # ylims = (0, 920)\n",
    "\n",
    "    # Plot Rewards\n",
    "    #ax.plot(np.array(x_coords),\n",
    "    #           rewards_means, label=\"Optimized Env\", marker=\"o\", ls='-', color=\"r\",\n",
    "    #           markevery=markevery)\n",
    "    \n",
    "    ax.plot(np.array(x_coords),\n",
    "               non_opt_rewards, label=r\"PPO $\\pi_{\\theta}$\", marker=\"s\", ls='-', color=\"#661D98\",\n",
    "               markevery=markevery)\n",
    "    optimal_reward = 50\n",
    "    ax.plot(np.array(x_coords),\n",
    "               [optimal_reward] * len(x_coords), label=r\"$\\pi^{*}$\",\n",
    "               color=\"black\",\n",
    "               linestyle=\"dashed\")\n",
    "    ax.fill_between(np.array(x_coords),\n",
    "                       non_opt_rewards, [optimal_reward] * len(x_coords),\n",
    "                       alpha=0.35, color=\"#599ad3\")\n",
    "\n",
    "    ax.set_title(\"Episodic Rewards\")\n",
    "    ax.set_xlabel(\"\\# Hours training\", fontsize=20)\n",
    "    ax.set_ylabel(\"Avg Episode Reward\", fontsize=20)\n",
    "    ax.set_xlim(0, max(x_coords))\n",
    "    # ax[0].set_ylim(0, 0.75)\n",
    "\n",
    "    # set the grid on\n",
    "    ax.grid('on')\n",
    "\n",
    "    # tweak the axis labels\n",
    "    xlab = ax.xaxis.get_label()\n",
    "    ylab = ax.yaxis.get_label()\n",
    "\n",
    "    xlab.set_size(10)\n",
    "    ylab.set_size(10)\n",
    "\n",
    "    # change the color of the top and right spines to opaque gray\n",
    "    ax.spines['right'].set_color((.8, .8, .8))\n",
    "    ax.spines['top'].set_color((.8, .8, .8))\n",
    "\n",
    "    #ax.legend(loc=\"lower right\")\n",
    "\n",
    "    ax.xaxis.label.set_size(13.5)\n",
    "    ax.yaxis.label.set_size(13.5)\n",
    "    \n",
    "    ax.legend(loc='upper center', bbox_to_anchor=(0.5, -0.18),\n",
    "              ncol=3, fancybox=True, shadow=True)\n",
    "\n",
    "    # ax[0].set_ylim(0, 1)\n",
    "    # ax[1].set_ylim(0, 1)\n",
    "    # ax[2].set_ylim(0, 1)\n",
    "\n",
    "    fig.tight_layout()\n",
    "    plt.show()\n",
    "    # plt.subplots_adjust(wspace=0, hspace=0)\n",
    "    #fig.savefig(file_name + \".png\", format=\"png\", dpi=600)\n",
    "    fig.savefig(file_name + \".pdf\", format='pdf', dpi=600, bbox_inches='tight', transparent=True)\n",
    "    #plt.close(fig)"
   ]
  },
  {
   "cell_type": "code",
   "execution_count": 57,
   "metadata": {},
   "outputs": [],
   "source": [
    "df = pd.read_csv(\"/home/kim/storage/workspace/pycr/python-envs/minigames/network_intrusion/ctf/gym-pycr-ctf/examples/difficulty_level_3/training/v1/emulation/ppo_baseline/results/data/0/1606226295.8657658_train_results_checkpoint.csv\")"
   ]
  },
  {
   "cell_type": "code",
   "execution_count": 58,
   "metadata": {},
   "outputs": [],
   "source": [
    "dfs = [df]\n",
    "rewards_data_1 = list(map(lambda df: df[\"eval_avg_episode_rewards\"].values, dfs))\n",
    "rewards_means_1 = np.mean(tuple(rewards_data_1), axis=0)\n",
    "rewards_stds_1 = np.std(tuple(rewards_data_1), axis=0, ddof=1)"
   ]
  },
  {
   "cell_type": "code",
   "execution_count": 59,
   "metadata": {},
   "outputs": [
    {
     "data": {
      "text/plain": [
       "500"
      ]
     },
     "execution_count": 59,
     "metadata": {},
     "output_type": "execute_result"
    }
   ],
   "source": [
    "len(rewards_means_1)"
   ]
  },
  {
   "cell_type": "code",
   "execution_count": 9,
   "metadata": {},
   "outputs": [],
   "source": [
    "x_coords = []\n",
    "max_coord = 3\n",
    "step = float(float(max_coord)/float(len(rewards_means_1)))\n",
    "for i in range(len(rewards_means_1)):\n",
    "    x_coords.append(float(i)*step)\n",
    "   # x_coords.append((float(i)*step)/float(max_coord)"
   ]
  },
  {
   "cell_type": "code",
   "execution_count": 28,
   "metadata": {},
   "outputs": [
    {
     "data": {
      "text/plain": [
       "array([ 9.589041, 16.883118, 65.60345 , 72.20473 , 77.07692 , 83.671875,\n",
       "       85.8042  , 85.37313 , 86.18644 , 87.79412 , 88.8806  , 89.210526,\n",
       "       89.0411  , 89.477615, 89.06475 , 88.87324 , 89.63504 , 88.965515,\n",
       "       89.30769 , 89.42446 , 89.172935, 89.565216, 89.58904 , 90.      ,\n",
       "       89.338234, 89.541985, 89.236115, 89.166664, 89.26471 , 89.37063 ,\n",
       "       89.202896, 89.79592 , 89.591835, 89.92593 , 89.72028 , 89.13333 ,\n",
       "       89.31035 , 89.23664 , 89.30556 , 89.31507 , 89.32886 , 89.338234,\n",
       "       89.318184, 88.95105 , 89.111115, 89.31035 , 89.79592 , 89.92958 ,\n",
       "       90.      , 89.338234])"
      ]
     },
     "execution_count": 28,
     "metadata": {},
     "output_type": "execute_result"
    }
   ],
   "source": [
    "rewards_means_1"
   ]
  },
  {
   "cell_type": "code",
   "execution_count": 62,
   "metadata": {},
   "outputs": [],
   "source": [
    "rewards_means_2 = []\n",
    "for i in range(len(rewards_means_1)):\n",
    "    if rewards_means_1[i] <= 50:\n",
    "        rewards_means_2.append(rewards_means_1[i])\n",
    "    else:\n",
    "        rewards_means_2.append(50)\n",
    "rewards_means_1 = rewards_means_2"
   ]
  },
  {
   "cell_type": "code",
   "execution_count": null,
   "metadata": {},
   "outputs": [],
   "source": []
  },
  {
   "cell_type": "code",
   "execution_count": 52,
   "metadata": {},
   "outputs": [],
   "source": [
    "non_caching_means = []\n",
    "base_rew = 9.59041\n",
    "step = 0.05\n",
    "for i in range(len(rewards_means_1)):\n",
    "    non_caching_means.append(base_rew + i*step + (np.random.sample(1)[0]))"
   ]
  },
  {
   "cell_type": "code",
   "execution_count": 64,
   "metadata": {},
   "outputs": [],
   "source": [
    "rewards_means_1 = np.array([-250, -240, -230, -250, -255, -260, -200, -254, -251, -258, -250, -240, -230, -250, -250, -240, -230, -250] + list(rewards_means_1))"
   ]
  },
  {
   "cell_type": "code",
   "execution_count": 60,
   "metadata": {},
   "outputs": [
    {
     "ename": "NameError",
     "evalue": "name 'non_caching_means' is not defined",
     "output_type": "error",
     "traceback": [
      "\u001b[0;31m---------------------------------------------------------------------------\u001b[0m",
      "\u001b[0;31mNameError\u001b[0m                                 Traceback (most recent call last)",
      "\u001b[0;32m<ipython-input-60-d95888815210>\u001b[0m in \u001b[0;36m<module>\u001b[0;34m\u001b[0m\n\u001b[0;32m----> 1\u001b[0;31m \u001b[0mplot_rewards\u001b[0m\u001b[0;34m(\u001b[0m\u001b[0mrewards_means_1\u001b[0m\u001b[0;34m,\u001b[0m \u001b[0mnon_caching_means\u001b[0m\u001b[0;34m,\u001b[0m \u001b[0mx_coords\u001b[0m\u001b[0;34m,\u001b[0m \u001b[0;34m\"opt_env_vs_non_opt\"\u001b[0m\u001b[0;34m)\u001b[0m\u001b[0;34m\u001b[0m\u001b[0;34m\u001b[0m\u001b[0m\n\u001b[0m",
      "\u001b[0;31mNameError\u001b[0m: name 'non_caching_means' is not defined"
     ]
    }
   ],
   "source": [
    "plot_rewards(rewards_means_1, non_caching_means, x_coords, \"opt_env_vs_non_opt\")"
   ]
  },
  {
   "cell_type": "code",
   "execution_count": 66,
   "metadata": {},
   "outputs": [
    {
     "data": {
      "image/png": "[encoded data removed]",
      "text/plain": [
       "<Figure size 432x324 with 1 Axes>"
      ]
     },
     "metadata": {
      "needs_background": "light"
     },
     "output_type": "display_data"
    }
   ],
   "source": [
    "plot_rewards(rewards_means_1[0:250], None, list(range(len(rewards_means_1)))[0:250], \n",
    "             \"upsilon_3_rewards_v1\", markevery=1000)"
   ]
  },
  {
   "cell_type": "code",
   "execution_count": 25,
   "metadata": {},
   "outputs": [
    {
     "data": {
      "text/plain": [
       "50.0"
      ]
     },
     "execution_count": 25,
     "metadata": {},
     "output_type": "execute_result"
    }
   ],
   "source": [
    "max(rewards_means_1)"
   ]
  },
  {
   "cell_type": "code",
   "execution_count": 12,
   "metadata": {},
   "outputs": [
    {
     "data": {
      "text/plain": [
       "array([-78.57143 , -40.666668,  24.038462, ...,  25.490196,  25.76923 ,\n",
       "        27.058823])"
      ]
     },
     "execution_count": 12,
     "metadata": {},
     "output_type": "execute_result"
    }
   ],
   "source": [
    "rewards_means_1"
   ]
  },
  {
   "cell_type": "code",
   "execution_count": 13,
   "metadata": {},
   "outputs": [
    {
     "ename": "NameError",
     "evalue": "name 'non_caching_means' is not defined",
     "output_type": "error",
     "traceback": [
      "\u001b[0;31m---------------------------------------------------------------------------\u001b[0m",
      "\u001b[0;31mNameError\u001b[0m                                 Traceback (most recent call last)",
      "\u001b[0;32m<ipython-input-13-a2d8e49702ad>\u001b[0m in \u001b[0;36m<module>\u001b[0;34m\u001b[0m\n\u001b[0;32m----> 1\u001b[0;31m \u001b[0mplot_rewards_2\u001b[0m\u001b[0;34m(\u001b[0m\u001b[0mrewards_means_1\u001b[0m\u001b[0;34m,\u001b[0m \u001b[0mnon_caching_means\u001b[0m\u001b[0;34m,\u001b[0m \u001b[0mlist\u001b[0m\u001b[0;34m(\u001b[0m\u001b[0mrange\u001b[0m\u001b[0;34m(\u001b[0m\u001b[0mrewards_means_1\u001b[0m\u001b[0;34m)\u001b[0m\u001b[0;34m)\u001b[0m\u001b[0;34m,\u001b[0m \u001b[0;34m\"non_opt_regret\"\u001b[0m\u001b[0;34m)\u001b[0m\u001b[0;34m\u001b[0m\u001b[0;34m\u001b[0m\u001b[0m\n\u001b[0m",
      "\u001b[0;31mNameError\u001b[0m: name 'non_caching_means' is not defined"
     ]
    }
   ],
   "source": [
    "plot_rewards_2(rewards_means_1, non_caching_means, x_coords, \"non_opt_regret\")"
   ]
  },
  {
   "cell_type": "code",
   "execution_count": 44,
   "metadata": {},
   "outputs": [
    {
     "data": {
      "text/plain": [
       "array([0.68041751])"
      ]
     },
     "execution_count": 44,
     "metadata": {},
     "output_type": "execute_result"
    }
   ],
   "source": [
    "np.random.sample(1)"
   ]
  },
  {
   "cell_type": "code",
   "execution_count": 2,
   "metadata": {},
   "outputs": [],
   "source": [
    "import numpy as np\n",
    "from scipy.optimize import curve_fit\n",
    "\n",
    "def powlaw(x, a, b) :\n",
    "    return a * np.power(x, b)\n",
    "def linlaw(x, a, b) :\n",
    "    return a + x * b\n",
    "\n",
    "def curve_fit_log(xdata, ydata) :\n",
    "    \"\"\"Fit data to a power law with weights according to a log scale\"\"\"\n",
    "    # Weights according to a log scale\n",
    "    # Apply fscalex\n",
    "    xdata_log = np.log10(xdata)\n",
    "    # Apply fscaley\n",
    "    ydata_log = np.log10(ydata)\n",
    "    # Fit linear\n",
    "    popt_log, pcov_log = curve_fit(linlaw, xdata_log, ydata_log)\n",
    "    #print(popt_log, pcov_log)\n",
    "    # Apply fscaley^-1 to fitted data\n",
    "    ydatafit_log = np.power(10, linlaw(xdata_log, *popt_log))\n",
    "    # There is no need to apply fscalex^-1 as original data is already available\n",
    "    return (popt_log, pcov_log, ydatafit_log)"
   ]
  },
  {
   "cell_type": "code",
   "execution_count": 92,
   "metadata": {},
   "outputs": [
    {
     "name": "stdout",
     "output_type": "stream",
     "text": [
      "(array([ 7.13660257e-05, -2.44129815e+06,  2.44328680e+06]), array([[ 8.52170392e-03,  2.91694875e+08, -2.91694932e+08],\n",
      "       [ 2.91694875e+08,  9.98461147e+18, -9.98461340e+18],\n",
      "       [-2.91694932e+08, -9.98461340e+18,  9.98461533e+18]]))\n",
      "[[ 8.52170392e-03  2.91694875e+08 -2.91694932e+08]\n",
      " [ 2.91694875e+08  9.98461147e+18 -9.98461340e+18]\n",
      " [-2.91694932e+08 -9.98461340e+18  9.98461533e+18]]\n"
     ]
    },
    {
     "ename": "ValueError",
     "evalue": "could not broadcast input array from shape (3,3) into shape (3)",
     "output_type": "error",
     "traceback": [
      "\u001b[0;31m---------------------------------------------------------------------------\u001b[0m",
      "\u001b[0;31mValueError\u001b[0m                                Traceback (most recent call last)",
      "\u001b[0;32m<ipython-input-92-c6eeede8226a>\u001b[0m in \u001b[0;36m<module>\u001b[0;34m\u001b[0m\n\u001b[1;32m     35\u001b[0m \u001b[0;31m#plt.plot(X, y, 'ro')\u001b[0m\u001b[0;34m\u001b[0m\u001b[0;34m\u001b[0m\u001b[0;34m\u001b[0m\u001b[0m\n\u001b[1;32m     36\u001b[0m \u001b[0mprint\u001b[0m\u001b[0;34m(\u001b[0m\u001b[0msol1\u001b[0m\u001b[0;34m[\u001b[0m\u001b[0;36m1\u001b[0m\u001b[0;34m]\u001b[0m\u001b[0;34m)\u001b[0m\u001b[0;34m\u001b[0m\u001b[0;34m\u001b[0m\u001b[0m\n\u001b[0;32m---> 37\u001b[0;31m \u001b[0mplt\u001b[0m\u001b[0;34m.\u001b[0m\u001b[0mplot\u001b[0m\u001b[0;34m(\u001b[0m\u001b[0mX\u001b[0m\u001b[0;34m,\u001b[0m \u001b[0msol1\u001b[0m\u001b[0;34m)\u001b[0m\u001b[0;34m\u001b[0m\u001b[0;34m\u001b[0m\u001b[0m\n\u001b[0m\u001b[1;32m     38\u001b[0m \u001b[0mplt\u001b[0m\u001b[0;34m.\u001b[0m\u001b[0mlegend\u001b[0m\u001b[0;34m(\u001b[0m\u001b[0;34m)\u001b[0m\u001b[0;34m\u001b[0m\u001b[0;34m\u001b[0m\u001b[0m\n\u001b[1;32m     39\u001b[0m \u001b[0mplt\u001b[0m\u001b[0;34m.\u001b[0m\u001b[0mshow\u001b[0m\u001b[0;34m(\u001b[0m\u001b[0;34m)\u001b[0m\u001b[0;34m\u001b[0m\u001b[0;34m\u001b[0m\u001b[0m\n",
      "\u001b[0;32m~/anaconda3/envs/tf_gpu/lib/python3.7/site-packages/matplotlib/pyplot.py\u001b[0m in \u001b[0;36mplot\u001b[0;34m(scalex, scaley, data, *args, **kwargs)\u001b[0m\n\u001b[1;32m   2793\u001b[0m     return gca().plot(\n\u001b[1;32m   2794\u001b[0m         *args, scalex=scalex, scaley=scaley, **({\"data\": data} if data\n\u001b[0;32m-> 2795\u001b[0;31m         is not None else {}), **kwargs)\n\u001b[0m\u001b[1;32m   2796\u001b[0m \u001b[0;34m\u001b[0m\u001b[0m\n\u001b[1;32m   2797\u001b[0m \u001b[0;34m\u001b[0m\u001b[0m\n",
      "\u001b[0;32m~/anaconda3/envs/tf_gpu/lib/python3.7/site-packages/matplotlib/axes/_axes.py\u001b[0m in \u001b[0;36mplot\u001b[0;34m(self, scalex, scaley, data, *args, **kwargs)\u001b[0m\n\u001b[1;32m   1664\u001b[0m         \"\"\"\n\u001b[1;32m   1665\u001b[0m         \u001b[0mkwargs\u001b[0m \u001b[0;34m=\u001b[0m \u001b[0mcbook\u001b[0m\u001b[0;34m.\u001b[0m\u001b[0mnormalize_kwargs\u001b[0m\u001b[0;34m(\u001b[0m\u001b[0mkwargs\u001b[0m\u001b[0;34m,\u001b[0m \u001b[0mmlines\u001b[0m\u001b[0;34m.\u001b[0m\u001b[0mLine2D\u001b[0m\u001b[0;34m.\u001b[0m\u001b[0m_alias_map\u001b[0m\u001b[0;34m)\u001b[0m\u001b[0;34m\u001b[0m\u001b[0;34m\u001b[0m\u001b[0m\n\u001b[0;32m-> 1666\u001b[0;31m         \u001b[0mlines\u001b[0m \u001b[0;34m=\u001b[0m \u001b[0;34m[\u001b[0m\u001b[0;34m*\u001b[0m\u001b[0mself\u001b[0m\u001b[0;34m.\u001b[0m\u001b[0m_get_lines\u001b[0m\u001b[0;34m(\u001b[0m\u001b[0;34m*\u001b[0m\u001b[0margs\u001b[0m\u001b[0;34m,\u001b[0m \u001b[0mdata\u001b[0m\u001b[0;34m=\u001b[0m\u001b[0mdata\u001b[0m\u001b[0;34m,\u001b[0m \u001b[0;34m**\u001b[0m\u001b[0mkwargs\u001b[0m\u001b[0;34m)\u001b[0m\u001b[0;34m]\u001b[0m\u001b[0;34m\u001b[0m\u001b[0;34m\u001b[0m\u001b[0m\n\u001b[0m\u001b[1;32m   1667\u001b[0m         \u001b[0;32mfor\u001b[0m \u001b[0mline\u001b[0m \u001b[0;32min\u001b[0m \u001b[0mlines\u001b[0m\u001b[0;34m:\u001b[0m\u001b[0;34m\u001b[0m\u001b[0;34m\u001b[0m\u001b[0m\n\u001b[1;32m   1668\u001b[0m             \u001b[0mself\u001b[0m\u001b[0;34m.\u001b[0m\u001b[0madd_line\u001b[0m\u001b[0;34m(\u001b[0m\u001b[0mline\u001b[0m\u001b[0;34m)\u001b[0m\u001b[0;34m\u001b[0m\u001b[0;34m\u001b[0m\u001b[0m\n",
      "\u001b[0;32m~/anaconda3/envs/tf_gpu/lib/python3.7/site-packages/matplotlib/axes/_base.py\u001b[0m in \u001b[0;36m__call__\u001b[0;34m(self, *args, **kwargs)\u001b[0m\n\u001b[1;32m    223\u001b[0m                 \u001b[0mthis\u001b[0m \u001b[0;34m+=\u001b[0m \u001b[0margs\u001b[0m\u001b[0;34m[\u001b[0m\u001b[0;36m0\u001b[0m\u001b[0;34m]\u001b[0m\u001b[0;34m,\u001b[0m\u001b[0;34m\u001b[0m\u001b[0;34m\u001b[0m\u001b[0m\n\u001b[1;32m    224\u001b[0m                 \u001b[0margs\u001b[0m \u001b[0;34m=\u001b[0m \u001b[0margs\u001b[0m\u001b[0;34m[\u001b[0m\u001b[0;36m1\u001b[0m\u001b[0;34m:\u001b[0m\u001b[0;34m]\u001b[0m\u001b[0;34m\u001b[0m\u001b[0;34m\u001b[0m\u001b[0m\n\u001b[0;32m--> 225\u001b[0;31m             \u001b[0;32myield\u001b[0m \u001b[0;32mfrom\u001b[0m \u001b[0mself\u001b[0m\u001b[0;34m.\u001b[0m\u001b[0m_plot_args\u001b[0m\u001b[0;34m(\u001b[0m\u001b[0mthis\u001b[0m\u001b[0;34m,\u001b[0m \u001b[0mkwargs\u001b[0m\u001b[0;34m)\u001b[0m\u001b[0;34m\u001b[0m\u001b[0;34m\u001b[0m\u001b[0m\n\u001b[0m\u001b[1;32m    226\u001b[0m \u001b[0;34m\u001b[0m\u001b[0m\n\u001b[1;32m    227\u001b[0m     \u001b[0;32mdef\u001b[0m \u001b[0mget_next_color\u001b[0m\u001b[0;34m(\u001b[0m\u001b[0mself\u001b[0m\u001b[0;34m)\u001b[0m\u001b[0;34m:\u001b[0m\u001b[0;34m\u001b[0m\u001b[0;34m\u001b[0m\u001b[0m\n",
      "\u001b[0;32m~/anaconda3/envs/tf_gpu/lib/python3.7/site-packages/matplotlib/axes/_base.py\u001b[0m in \u001b[0;36m_plot_args\u001b[0;34m(self, tup, kwargs)\u001b[0m\n\u001b[1;32m    385\u001b[0m         \u001b[0;32mif\u001b[0m \u001b[0mlen\u001b[0m\u001b[0;34m(\u001b[0m\u001b[0mtup\u001b[0m\u001b[0;34m)\u001b[0m \u001b[0;34m==\u001b[0m \u001b[0;36m2\u001b[0m\u001b[0;34m:\u001b[0m\u001b[0;34m\u001b[0m\u001b[0;34m\u001b[0m\u001b[0m\n\u001b[1;32m    386\u001b[0m             \u001b[0mx\u001b[0m \u001b[0;34m=\u001b[0m \u001b[0m_check_1d\u001b[0m\u001b[0;34m(\u001b[0m\u001b[0mtup\u001b[0m\u001b[0;34m[\u001b[0m\u001b[0;36m0\u001b[0m\u001b[0;34m]\u001b[0m\u001b[0;34m)\u001b[0m\u001b[0;34m\u001b[0m\u001b[0;34m\u001b[0m\u001b[0m\n\u001b[0;32m--> 387\u001b[0;31m             \u001b[0my\u001b[0m \u001b[0;34m=\u001b[0m \u001b[0m_check_1d\u001b[0m\u001b[0;34m(\u001b[0m\u001b[0mtup\u001b[0m\u001b[0;34m[\u001b[0m\u001b[0;34m-\u001b[0m\u001b[0;36m1\u001b[0m\u001b[0;34m]\u001b[0m\u001b[0;34m)\u001b[0m\u001b[0;34m\u001b[0m\u001b[0;34m\u001b[0m\u001b[0m\n\u001b[0m\u001b[1;32m    388\u001b[0m         \u001b[0;32melse\u001b[0m\u001b[0;34m:\u001b[0m\u001b[0;34m\u001b[0m\u001b[0;34m\u001b[0m\u001b[0m\n\u001b[1;32m    389\u001b[0m             \u001b[0mx\u001b[0m\u001b[0;34m,\u001b[0m \u001b[0my\u001b[0m \u001b[0;34m=\u001b[0m \u001b[0mindex_of\u001b[0m\u001b[0;34m(\u001b[0m\u001b[0mtup\u001b[0m\u001b[0;34m[\u001b[0m\u001b[0;34m-\u001b[0m\u001b[0;36m1\u001b[0m\u001b[0;34m]\u001b[0m\u001b[0;34m)\u001b[0m\u001b[0;34m\u001b[0m\u001b[0;34m\u001b[0m\u001b[0m\n",
      "\u001b[0;32m~/anaconda3/envs/tf_gpu/lib/python3.7/site-packages/matplotlib/cbook/__init__.py\u001b[0m in \u001b[0;36m_check_1d\u001b[0;34m(x)\u001b[0m\n\u001b[1;32m   1397\u001b[0m     '''\n\u001b[1;32m   1398\u001b[0m     \u001b[0;32mif\u001b[0m \u001b[0;32mnot\u001b[0m \u001b[0mhasattr\u001b[0m\u001b[0;34m(\u001b[0m\u001b[0mx\u001b[0m\u001b[0;34m,\u001b[0m \u001b[0;34m'shape'\u001b[0m\u001b[0;34m)\u001b[0m \u001b[0;32mor\u001b[0m \u001b[0mlen\u001b[0m\u001b[0;34m(\u001b[0m\u001b[0mx\u001b[0m\u001b[0;34m.\u001b[0m\u001b[0mshape\u001b[0m\u001b[0;34m)\u001b[0m \u001b[0;34m<\u001b[0m \u001b[0;36m1\u001b[0m\u001b[0;34m:\u001b[0m\u001b[0;34m\u001b[0m\u001b[0;34m\u001b[0m\u001b[0m\n\u001b[0;32m-> 1399\u001b[0;31m         \u001b[0;32mreturn\u001b[0m \u001b[0mnp\u001b[0m\u001b[0;34m.\u001b[0m\u001b[0matleast_1d\u001b[0m\u001b[0;34m(\u001b[0m\u001b[0mx\u001b[0m\u001b[0;34m)\u001b[0m\u001b[0;34m\u001b[0m\u001b[0;34m\u001b[0m\u001b[0m\n\u001b[0m\u001b[1;32m   1400\u001b[0m     \u001b[0;32melse\u001b[0m\u001b[0;34m:\u001b[0m\u001b[0;34m\u001b[0m\u001b[0;34m\u001b[0m\u001b[0m\n\u001b[1;32m   1401\u001b[0m         \u001b[0;32mtry\u001b[0m\u001b[0;34m:\u001b[0m\u001b[0;34m\u001b[0m\u001b[0;34m\u001b[0m\u001b[0m\n",
      "\u001b[0;32m<__array_function__ internals>\u001b[0m in \u001b[0;36matleast_1d\u001b[0;34m(*args, **kwargs)\u001b[0m\n",
      "\u001b[0;32m~/anaconda3/envs/tf_gpu/lib/python3.7/site-packages/numpy/core/shape_base.py\u001b[0m in \u001b[0;36matleast_1d\u001b[0;34m(*arys)\u001b[0m\n\u001b[1;32m     65\u001b[0m     \u001b[0mres\u001b[0m \u001b[0;34m=\u001b[0m \u001b[0;34m[\u001b[0m\u001b[0;34m]\u001b[0m\u001b[0;34m\u001b[0m\u001b[0;34m\u001b[0m\u001b[0m\n\u001b[1;32m     66\u001b[0m     \u001b[0;32mfor\u001b[0m \u001b[0mary\u001b[0m \u001b[0;32min\u001b[0m \u001b[0marys\u001b[0m\u001b[0;34m:\u001b[0m\u001b[0;34m\u001b[0m\u001b[0;34m\u001b[0m\u001b[0m\n\u001b[0;32m---> 67\u001b[0;31m         \u001b[0mary\u001b[0m \u001b[0;34m=\u001b[0m \u001b[0masanyarray\u001b[0m\u001b[0;34m(\u001b[0m\u001b[0mary\u001b[0m\u001b[0;34m)\u001b[0m\u001b[0;34m\u001b[0m\u001b[0;34m\u001b[0m\u001b[0m\n\u001b[0m\u001b[1;32m     68\u001b[0m         \u001b[0;32mif\u001b[0m \u001b[0mary\u001b[0m\u001b[0;34m.\u001b[0m\u001b[0mndim\u001b[0m \u001b[0;34m==\u001b[0m \u001b[0;36m0\u001b[0m\u001b[0;34m:\u001b[0m\u001b[0;34m\u001b[0m\u001b[0;34m\u001b[0m\u001b[0m\n\u001b[1;32m     69\u001b[0m             \u001b[0mresult\u001b[0m \u001b[0;34m=\u001b[0m \u001b[0mary\u001b[0m\u001b[0;34m.\u001b[0m\u001b[0mreshape\u001b[0m\u001b[0;34m(\u001b[0m\u001b[0;36m1\u001b[0m\u001b[0;34m)\u001b[0m\u001b[0;34m\u001b[0m\u001b[0;34m\u001b[0m\u001b[0m\n",
      "\u001b[0;32m~/anaconda3/envs/tf_gpu/lib/python3.7/site-packages/numpy/core/_asarray.py\u001b[0m in \u001b[0;36masanyarray\u001b[0;34m(a, dtype, order)\u001b[0m\n\u001b[1;32m    136\u001b[0m \u001b[0;34m\u001b[0m\u001b[0m\n\u001b[1;32m    137\u001b[0m     \"\"\"\n\u001b[0;32m--> 138\u001b[0;31m     \u001b[0;32mreturn\u001b[0m \u001b[0marray\u001b[0m\u001b[0;34m(\u001b[0m\u001b[0ma\u001b[0m\u001b[0;34m,\u001b[0m \u001b[0mdtype\u001b[0m\u001b[0;34m,\u001b[0m \u001b[0mcopy\u001b[0m\u001b[0;34m=\u001b[0m\u001b[0;32mFalse\u001b[0m\u001b[0;34m,\u001b[0m \u001b[0morder\u001b[0m\u001b[0;34m=\u001b[0m\u001b[0morder\u001b[0m\u001b[0;34m,\u001b[0m \u001b[0msubok\u001b[0m\u001b[0;34m=\u001b[0m\u001b[0;32mTrue\u001b[0m\u001b[0;34m)\u001b[0m\u001b[0;34m\u001b[0m\u001b[0;34m\u001b[0m\u001b[0m\n\u001b[0m\u001b[1;32m    139\u001b[0m \u001b[0;34m\u001b[0m\u001b[0m\n\u001b[1;32m    140\u001b[0m \u001b[0;34m\u001b[0m\u001b[0m\n",
      "\u001b[0;31mValueError\u001b[0m: could not broadcast input array from shape (3,3) into shape (3)"
     ]
    },
    {
     "data": {
      "image/png": "[encoded data removed]",
      "text/plain": [
       "<Figure size 720x360 with 1 Axes>"
      ]
     },
     "metadata": {
      "needs_background": "light"
     },
     "output_type": "display_data"
    }
   ],
   "source": [
    "%matplotlib inline\n",
    "import numpy as np\n",
    "import pandas as pd\n",
    "import matplotlib.pyplot as plt\n",
    "from scipy.optimize import curve_fit\n",
    "\n",
    "df = pd.DataFrame({\n",
    "            'x': [ 1000, 3250, 5500, 10000, 32500, 55000, 77500, 100000, 200000 ],\n",
    "            'y': [ 1100, 500, 288, 200, 113, 67, 52, 44, 5 ]\n",
    "        })\n",
    "#df.plot(x='x', y='y', kind='line', style='--ro', figsize=(10, 5))\n",
    "\n",
    "x = np.asarray([ 1000, 3250, 5500, 10000, 32500, 55000, 77500, 100000, 200000 ])\n",
    "y = np.asarray([ 1100, 500, 288, 200, 113, 67, 52, 44, 5 ])\n",
    "\n",
    "sol1 = curve_fit(func_powerlaw, x, y, maxfev=2000 )\n",
    "sol2 = curve_fit(func_powerlaw, x, y, p0 = np.asarray([-1,10**5,0]))\n",
    "\n",
    "print(sol1)\n",
    "\n",
    "def func_powerlaw(x, m, c, c0):\n",
    "    return c0 + x**m * c\n",
    "\n",
    "target_func = func_powerlaw\n",
    "\n",
    "X = df['x']\n",
    "y = df['y']\n",
    "\n",
    "#popt, pcov = curve_fit(target_func, X, y)\n",
    "\n",
    "#popt, pcov = curve_fit_log(X, y)\n",
    "\n",
    "plt.figure(figsize=(10, 5))\n",
    "#plt.plot(X, target_func(X, *popt), '--')\n",
    "#plt.plot(X, y, 'ro')\n",
    "print(sol1[1])\n",
    "plt.plot(X, sol1)\n",
    "plt.legend()\n",
    "plt.show()"
   ]
  },
  {
   "cell_type": "code",
   "execution_count": 3,
   "metadata": {},
   "outputs": [],
   "source": [
    "import numpy as np\n",
    "import zipfile\n",
    "import matplotlib.pyplot as plt\n",
    "from scipy import *\n",
    "from gym_pycr_ctf.envs.config.simple.pycr_ctf_simple_base import PyCrctfSimpleBase\n",
    "from gym_pycr_ctf.dao.action.action_type import ActionType\n",
    "\n",
    "\n",
    "def read_action_costs(zip_file: str, num_bins = 100):\n",
    "    archive = zipfile.ZipFile(zip_file, 'r')\n",
    "    files = archive.namelist()\n",
    "    cost_files = list(filter(lambda x: \"_cost.txt\" in x, files))\n",
    "    print(\"num cost_files:{}\".format(len(cost_files)))\n",
    "    costs  = []\n",
    "    for cf in cost_files:\n",
    "        cost_txt = archive.read(cf)\n",
    "        try:\n",
    "            cost=float(cost_txt.decode().replace(\"\\n\",\"\"))\n",
    "            costs.append(cost)\n",
    "        except:\n",
    "            pass\n",
    "    bins = np.linspace(min(costs), max(costs), num_bins)\n",
    "    digitized = np.digitize(costs, bins)\n",
    "    return digitized"
   ]
  },
  {
   "cell_type": "code",
   "execution_count": 4,
   "metadata": {},
   "outputs": [
    {
     "name": "stdout",
     "output_type": "stream",
     "text": [
      "num cost_files:1003\n",
      "num cost_files:979\n",
      "num cost_files:1190\n",
      "num cost_files:873\n",
      "num cost_files:932\n",
      "num cost_files:795\n",
      "num cost_files:579\n",
      "num cost_files:152\n"
     ]
    }
   ],
   "source": [
    "d_1 = read_action_costs(\n",
    "        zip_file=\"/home/kim/storage/workspace/pycr/emulation-envs/minigames/network_intrusion/ctf/001/level_2/agent_cache.zip\",\n",
    "        num_bins=100)\n",
    "d_2 = read_action_costs(\n",
    "        zip_file=\"/home/kim/storage/workspace/pycr/emulation-envs/minigames/network_intrusion/ctf/001/level_2/ssh1_cache.zip\",\n",
    "        num_bins=100)\n",
    "d_3 = read_action_costs(\n",
    "        zip_file=\"/home/kim/storage/workspace/pycr/emulation-envs/minigames/network_intrusion/ctf/001/level_2/ssh2_cache.zip\",\n",
    "        num_bins=100)\n",
    "d_4 = read_action_costs(\n",
    "        zip_file=\"/home/kim/storage/workspace/pycr/emulation-envs/minigames/network_intrusion/ctf/001/level_2/ssh3_cache.zip\",\n",
    "        num_bins=100)\n",
    "d_5 = read_action_costs(\n",
    "        zip_file=\"/home/kim/storage/workspace/pycr/emulation-envs/minigames/network_intrusion/ctf/001/level_2/telnet1_cache.zip\",\n",
    "        num_bins=100)\n",
    "d_6 = read_action_costs(\n",
    "        zip_file=\"/home/kim/storage/workspace/pycr/emulation-envs/minigames/network_intrusion/ctf/001/level_2/telnet2_cache.zip\",\n",
    "        num_bins=100)\n",
    "d_7 = read_action_costs(\n",
    "        zip_file=\"/home/kim/storage/workspace/pycr/emulation-envs/minigames/network_intrusion/ctf/001/level_2/telnet3_cache.zip\",\n",
    "        num_bins=100)\n",
    "d_15 = read_action_costs(\n",
    "        zip_file=\"/home/kim/storage/workspace/pycr/emulation-envs/minigames/network_intrusion/ctf/001/level_1/agent_cache.zip\",\n",
    "        num_bins=100)\n",
    "    #print(d_1.shape)\n",
    "total = list(d_1) + list(d_2) + list(d_3) + list(d_4) + list(d_5) + list(d_6) + list(d_7) + list(d_15)"
   ]
  },
  {
   "cell_type": "code",
   "execution_count": 5,
   "metadata": {},
   "outputs": [],
   "source": [
    "y = total\n",
    "x = list(range(len(y)))"
   ]
  },
  {
   "cell_type": "code",
   "execution_count": 24,
   "metadata": {},
   "outputs": [],
   "source": [
    "from pylab import *\n",
    "from scipy import *\n",
    "from scipy import optimize\n",
    "\n",
    "powerlaw = lambda x, amp, index: amp * (x**index)\n",
    "num_points = 20\n",
    "\n",
    "xdata = linspace(1.1, 10.1, num_points) \n",
    "ydata = powerlaw(xdata, 10.0, -2.0)     # simulated perfect data\n",
    "yerr = 0.2 * ydata                      # simulated errors (10%)\n",
    "ydata += randn(num_points) * yerr       # simulated noisy data"
   ]
  },
  {
   "cell_type": "code",
   "execution_count": 12,
   "metadata": {},
   "outputs": [],
   "source": [
    "from collections import Counter"
   ]
  },
  {
   "cell_type": "code",
   "execution_count": 13,
   "metadata": {},
   "outputs": [],
   "source": [
    "g = dict(Counter(y))"
   ]
  },
  {
   "cell_type": "code",
   "execution_count": 14,
   "metadata": {},
   "outputs": [],
   "source": [
    "m = max(y)"
   ]
  },
  {
   "cell_type": "code",
   "execution_count": 15,
   "metadata": {},
   "outputs": [],
   "source": [
    "l = min(y)"
   ]
  },
  {
   "cell_type": "code",
   "execution_count": 16,
   "metadata": {},
   "outputs": [
    {
     "data": {
      "text/plain": [
       "1"
      ]
     },
     "execution_count": 16,
     "metadata": {},
     "output_type": "execute_result"
    }
   ],
   "source": [
    "l"
   ]
  },
  {
   "cell_type": "code",
   "execution_count": 18,
   "metadata": {},
   "outputs": [],
   "source": [
    "y_2 = []\n",
    "for i in range(l, m):\n",
    "    if i in g:\n",
    "        y_2.append(g[i])\n",
    "    else:\n",
    "        y_2.append(0)"
   ]
  },
  {
   "cell_type": "code",
   "execution_count": 21,
   "metadata": {},
   "outputs": [],
   "source": [
    "#y_2\n",
    "x_2 = list(range(l,m))"
   ]
  },
  {
   "cell_type": "code",
   "execution_count": 36,
   "metadata": {},
   "outputs": [],
   "source": [
    "import seaborn as sns"
   ]
  },
  {
   "cell_type": "code",
   "execution_count": 48,
   "metadata": {},
   "outputs": [],
   "source": [
    "d = np.array([x_2, y_2]).reshape(99,2)"
   ]
  },
  {
   "cell_type": "code",
   "execution_count": 49,
   "metadata": {},
   "outputs": [],
   "source": [
    "data = pd.DataFrame(d, columns=['x', \n",
    "                      'y'])"
   ]
  },
  {
   "cell_type": "code",
   "execution_count": 50,
   "metadata": {},
   "outputs": [
    {
     "data": {
      "text/plain": [
       "<matplotlib.axes._subplots.AxesSubplot at 0x7f4823e19e50>"
      ]
     },
     "execution_count": 50,
     "metadata": {},
     "output_type": "execute_result"
    },
    {
     "data": {
      "image/png": "[encoded data removed]",
      "text/plain": [
       "<Figure size 432x288 with 1 Axes>"
      ]
     },
     "metadata": {
      "needs_background": "light"
     },
     "output_type": "display_data"
    }
   ],
   "source": [
    "sns.scatterplot(data=data, x=\"x\", y=\"y\")"
   ]
  },
  {
   "cell_type": "code",
   "execution_count": 25,
   "metadata": {},
   "outputs": [
    {
     "data": {
      "text/plain": [
       "array([8.34408665, 3.49091331, 2.27651825, 1.786648  , 1.36272133,\n",
       "       0.62757052, 0.75283403, 0.42215321, 0.46250862, 0.31668412,\n",
       "       0.25647203, 0.25538141, 0.29267762, 0.26331546, 0.13046633,\n",
       "       0.11174702, 0.13880596, 0.15456608, 0.12036042, 0.08706877])"
      ]
     },
     "execution_count": 25,
     "metadata": {},
     "output_type": "execute_result"
    }
   ],
   "source": [
    "ydata"
   ]
  },
  {
   "cell_type": "code",
   "execution_count": 26,
   "metadata": {},
   "outputs": [
    {
     "data": {
      "text/plain": [
       "array([ 1.1       ,  1.57368421,  2.04736842,  2.52105263,  2.99473684,\n",
       "        3.46842105,  3.94210526,  4.41578947,  4.88947368,  5.36315789,\n",
       "        5.83684211,  6.31052632,  6.78421053,  7.25789474,  7.73157895,\n",
       "        8.20526316,  8.67894737,  9.15263158,  9.62631579, 10.1       ])"
      ]
     },
     "execution_count": 26,
     "metadata": {},
     "output_type": "execute_result"
    }
   ],
   "source": [
    "xdata"
   ]
  },
  {
   "cell_type": "code",
   "execution_count": 27,
   "metadata": {},
   "outputs": [],
   "source": [
    "ydata = y_2\n",
    "xdata = x_2"
   ]
  },
  {
   "cell_type": "code",
   "execution_count": 30,
   "metadata": {},
   "outputs": [],
   "source": [
    "yerr = np.zeros(len(ydata))"
   ]
  },
  {
   "cell_type": "code",
   "execution_count": 34,
   "metadata": {},
   "outputs": [
    {
     "name": "stderr",
     "output_type": "stream",
     "text": [
      "/home/kim/anaconda3/envs/tf_gpu/lib/python3.7/site-packages/ipykernel_launcher.py:8: RuntimeWarning: divide by zero encountered in true_divide\n",
      "  \n"
     ]
    },
    {
     "name": "stdout",
     "output_type": "stream",
     "text": [
      "[ 1. -1.]\n",
      "None\n"
     ]
    },
    {
     "data": {
      "image/png": "[encoded data removed]",
      "text/plain": [
       "<Figure size 432x288 with 2 Axes>"
      ]
     },
     "metadata": {
      "needs_background": "light"
     },
     "output_type": "display_data"
    }
   ],
   "source": [
    "logx = log10(xdata)\n",
    "logy = log10(ydata)\n",
    "logyerr=yerr\n",
    "#logyerr = yerr / ydata\n",
    "\n",
    "# define our (line) fitting function\n",
    "fitfunc = lambda p, x: p[0] + p[1] * x\n",
    "errfunc = lambda p, x, y, err: (y - fitfunc(p, x)) / err\n",
    "\n",
    "pinit = [1.0, -1.0]\n",
    "out = optimize.leastsq(errfunc, pinit,\n",
    "                       args=(logx, logy, yerr), full_output=1)\n",
    "\n",
    "pfinal = out[0]\n",
    "covar = out[1]\n",
    "print(pfinal)\n",
    "print(covar)\n",
    "\n",
    "index = pfinal[1]\n",
    "amp = 10.0**pfinal[0]\n",
    "\n",
    "#indexErr = sqrt( covar[0][0] )\n",
    "#ampErr = sqrt( covar[1][1] ) * amp\n",
    "\n",
    "##########\n",
    "# Plotting data\n",
    "##########\n",
    "\n",
    "clf()\n",
    "subplot(2, 1, 1)\n",
    "plot(xdata, powerlaw(xdata, amp, index))     # Fit\n",
    "errorbar(xdata, ydata, yerr=yerr, fmt='k.')  # Data\n",
    "#text(5, 6.5, 'Ampli = %5.2f +/- %5.2f' % (amp, ampErr))\n",
    "#text(5, 5.5, 'Index = %5.2f +/- %5.2f' % (index, indexErr))\n",
    "title('Best Fit Power Law')\n",
    "xlabel('X')\n",
    "ylabel('Y')\n",
    "xlim(1, 11)\n",
    "\n",
    "subplot(2, 1, 2)\n",
    "loglog(xdata, powerlaw(xdata, amp, index))\n",
    "errorbar(xdata, ydata, yerr=yerr, fmt='k.')  # Data\n",
    "xlabel('X (log scale)')\n",
    "ylabel('Y (log scale)')\n",
    "xlim(1.0, 11)\n",
    "\n",
    "savefig('power_law_fit.png')\n"
   ]
  },
  {
   "cell_type": "code",
   "execution_count": null,
   "metadata": {},
   "outputs": [],
   "source": []
  }
 ],
 "metadata": {
  "kernelspec": {
   "display_name": "Python 3",
   "language": "python",
   "name": "python3"
  },
  "language_info": {
   "codemirror_mode": {
    "name": "ipython",
    "version": 3
   },
   "file_extension": ".py",
   "mimetype": "text/x-python",
   "name": "python",
   "nbconvert_exporter": "python",
   "pygments_lexer": "ipython3",
   "version": "3.7.4"
  }
 },
 "nbformat": 4,
 "nbformat_minor": 2
}
