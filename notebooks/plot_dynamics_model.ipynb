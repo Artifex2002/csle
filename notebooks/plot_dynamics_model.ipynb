{
 "cells": [
  {
   "cell_type": "code",
   "execution_count": 60,
   "metadata": {},
   "outputs": [],
   "source": [
    "import matplotlib.pyplot as plt\n",
    "import numpy as np\n",
    "import pandas as pd\n",
    "from gym_pycr_ctf.dao.network.emulation_config import EmulationConfig\n",
    "from gym_pycr_ctf.dao.defender_dynamics.defender_dynamics_model import DefenderDynamicsModel\n",
    "import gym\n",
    "import time\n",
    "import numpy as np\n",
    "import os\n",
    "%matplotlib inline"
   ]
  },
  {
   "cell_type": "code",
   "execution_count": 7,
   "metadata": {},
   "outputs": [],
   "source": [
    "model_path = \"/home/kim/storage/workspace/pycr/python-envs/minigames/network_intrusion/ctf/gym-pycr-ctf/examples/difficulty_level_4/hello_world/defender_dynamics_model.json\""
   ]
  },
  {
   "cell_type": "code",
   "execution_count": 8,
   "metadata": {},
   "outputs": [],
   "source": [
    "defender_dynamics_model = DefenderDynamicsModel()\n",
    "defender_dynamics_model.read_model_path(model_path)"
   ]
  },
  {
   "cell_type": "code",
   "execution_count": 14,
   "metadata": {},
   "outputs": [],
   "source": [
    "defender_dynamics_model.normalize()"
   ]
  },
  {
   "cell_type": "code",
   "execution_count": 15,
   "metadata": {},
   "outputs": [
    {
     "data": {
      "text/plain": [
       "0.0"
      ]
     },
     "execution_count": 15,
     "metadata": {},
     "output_type": "execute_result"
    }
   ],
   "source": [
    "defender_dynamics_model.norm_num_new_alerts[(85, '172.18.4.191_172.18.4.2_tools=0_backdoor=0_root=0_172.18.4.79_tools=0_backdoor=0_root=0')].mean()"
   ]
  },
  {
   "cell_type": "code",
   "execution_count": 16,
   "metadata": {},
   "outputs": [
    {
     "data": {
      "text/plain": [
       "{'172.18.4.191': {'121': 1, '0': 1, '119': 2, '118': 1, '120': 1, '122': 1},\n",
       " '172.18.4.191_172.18.4.2_tools=0_backdoor=0_root=0_172.18.4.79_tools=0_backdoor=0_root=0': {'109': 1,\n",
       "  '0': 1,\n",
       "  '117': 1},\n",
       " '172.18.4.191_172.18.4.2_tools=0_backdoor=0_root=0_172.18.4.3_tools=0_backdoor=0_root=1_172.18.4.79_tools=0_backdoor=0_root=1': {'119': 3,\n",
       "  '121': 1},\n",
       " '172.18.4.191_172.18.4.79_tools=0_backdoor=0_root=1': {'119': 2},\n",
       " '172.18.4.191_172.18.4.2_tools=0_backdoor=0_root=0_172.18.4.79_tools=0_backdoor=0_root=1': {'120': 1},\n",
       " '172.18.4.191_172.18.4.3_tools=0_backdoor=0_root=1': {'119': 1}}"
      ]
     },
     "execution_count": 16,
     "metadata": {},
     "output_type": "execute_result"
    }
   ],
   "source": [
    "defender_dynamics_model.num_new_alerts[\"19\"]"
   ]
  },
  {
   "cell_type": "code",
   "execution_count": 17,
   "metadata": {},
   "outputs": [
    {
     "data": {
      "text/plain": [
       "{'121': 1, '0': 1, '119': 2, '118': 1, '120': 1, '122': 1}"
      ]
     },
     "execution_count": 17,
     "metadata": {},
     "output_type": "execute_result"
    }
   ],
   "source": [
    "defender_dynamics_model.num_new_alerts[\"19\"][\"172.18.4.191\"]"
   ]
  },
  {
   "cell_type": "code",
   "execution_count": 18,
   "metadata": {},
   "outputs": [
    {
     "data": {
      "text/plain": [
       "102.71428571428571"
      ]
     },
     "execution_count": 18,
     "metadata": {},
     "output_type": "execute_result"
    }
   ],
   "source": [
    "defender_dynamics_model.norm_num_new_alerts[(19,\"172.18.4.191\")].mean()"
   ]
  },
  {
   "cell_type": "code",
   "execution_count": 19,
   "metadata": {},
   "outputs": [
    {
     "data": {
      "text/plain": [
       "118"
      ]
     },
     "execution_count": 19,
     "metadata": {},
     "output_type": "execute_result"
    }
   ],
   "source": [
    "defender_dynamics_model.norm_num_new_alerts[(19,\"172.18.4.191\")].rvs()"
   ]
  },
  {
   "cell_type": "code",
   "execution_count": 20,
   "metadata": {},
   "outputs": [
    {
     "data": {
      "text/plain": [
       "{'172.18.4.191': {'6': 11, '0': 8, '8': 1},\n",
       " '172.18.4.191_172.18.4.79_tools=0_backdoor=0_root=1': {'6': 7, '0': 2},\n",
       " '172.18.4.191_172.18.4.2_tools=0_backdoor=0_root=0_172.18.4.79_tools=0_backdoor=0_root=1': {'7': 1},\n",
       " '172.18.4.191_172.18.4.3_tools=0_backdoor=0_root=1': {'6': 3, '0': 1},\n",
       " '172.18.4.191_172.18.4.2_tools=0_backdoor=0_root=0_172.18.4.79_tools=0_backdoor=0_root=0': {'6': 1}}"
      ]
     },
     "execution_count": 20,
     "metadata": {},
     "output_type": "execute_result"
    }
   ],
   "source": [
    "defender_dynamics_model.num_new_alerts[\"11\"]"
   ]
  },
  {
   "cell_type": "code",
   "execution_count": 25,
   "metadata": {},
   "outputs": [
    {
     "data": {
      "text/plain": [
       "(0, 122)"
      ]
     },
     "execution_count": 25,
     "metadata": {},
     "output_type": "execute_result"
    }
   ],
   "source": [
    "defender_dynamics_model.norm_num_new_alerts[(19,\"172.18.4.191\")].support()"
   ]
  },
  {
   "cell_type": "code",
   "execution_count": 26,
   "metadata": {},
   "outputs": [],
   "source": [
    "dist = defender_dynamics_model.norm_num_new_alerts[(19,\"172.18.4.191\")]"
   ]
  },
  {
   "cell_type": "code",
   "execution_count": 31,
   "metadata": {},
   "outputs": [
    {
     "data": {
      "text/plain": [
       "0.14285714285714285"
      ]
     },
     "execution_count": 31,
     "metadata": {},
     "output_type": "execute_result"
    }
   ],
   "source": [
    "dist.pmf(122)"
   ]
  },
  {
   "cell_type": "code",
   "execution_count": 40,
   "metadata": {},
   "outputs": [],
   "source": [
    "xk = np.arange(dist.support()[0], dist.support()[1])"
   ]
  },
  {
   "cell_type": "code",
   "execution_count": 41,
   "metadata": {},
   "outputs": [
    {
     "data": {
      "text/plain": [
       "array([  0,   1,   2,   3,   4,   5,   6,   7,   8,   9,  10,  11,  12,\n",
       "        13,  14,  15,  16,  17,  18,  19,  20,  21,  22,  23,  24,  25,\n",
       "        26,  27,  28,  29,  30,  31,  32,  33,  34,  35,  36,  37,  38,\n",
       "        39,  40,  41,  42,  43,  44,  45,  46,  47,  48,  49,  50,  51,\n",
       "        52,  53,  54,  55,  56,  57,  58,  59,  60,  61,  62,  63,  64,\n",
       "        65,  66,  67,  68,  69,  70,  71,  72,  73,  74,  75,  76,  77,\n",
       "        78,  79,  80,  81,  82,  83,  84,  85,  86,  87,  88,  89,  90,\n",
       "        91,  92,  93,  94,  95,  96,  97,  98,  99, 100, 101, 102, 103,\n",
       "       104, 105, 106, 107, 108, 109, 110, 111, 112, 113, 114, 115, 116,\n",
       "       117, 118, 119, 120, 121])"
      ]
     },
     "execution_count": 41,
     "metadata": {},
     "output_type": "execute_result"
    }
   ],
   "source": [
    "xk"
   ]
  },
  {
   "cell_type": "code",
   "execution_count": 42,
   "metadata": {},
   "outputs": [],
   "source": [
    "xk = np.array(list(filter(lambda x: dist.pmf(x) > 0, xk.tolist())))"
   ]
  },
  {
   "cell_type": "code",
   "execution_count": 43,
   "metadata": {},
   "outputs": [
    {
     "data": {
      "text/plain": [
       "array([  0, 118, 119, 120, 121])"
      ]
     },
     "execution_count": 43,
     "metadata": {},
     "output_type": "execute_result"
    }
   ],
   "source": [
    "xk"
   ]
  },
  {
   "cell_type": "code",
   "execution_count": 44,
   "metadata": {},
   "outputs": [
    {
     "data": {
      "image/png": "[encoded data removed]",
      "text/plain": [
       "<Figure size 432x288 with 1 Axes>"
      ]
     },
     "metadata": {
      "needs_background": "light"
     },
     "output_type": "display_data"
    }
   ],
   "source": [
    "xk = np.arange(dist.support()[0], dist.support()[1])\n",
    "xk = np.array(list(filter(lambda x: dist.pmf(x) > 0, xk.tolist())))\n",
    "#pk = (0.1, 0.2, 0.3, 0.1, 0.1, 0.0, 0.2)\n",
    "#custm = stats.rv_discrete(name='custm', values=(xk, pk))\n",
    "\n",
    "fig, ax = plt.subplots(1, 1)\n",
    "ax.plot(xk, dist.pmf(xk), 'ro', ms=8, mec='r')\n",
    "ax.vlines(xk, 0, dist.pmf(xk), colors='r', linestyles='-', lw=2)\n",
    "plt.title('Custom made discrete distribution(PMF)')\n",
    "plt.ylabel('Probability')\n",
    "plt.show()"
   ]
  },
  {
   "cell_type": "code",
   "execution_count": 48,
   "metadata": {},
   "outputs": [],
   "source": [
    "sample = dist.rvs(size=100)"
   ]
  },
  {
   "cell_type": "code",
   "execution_count": 49,
   "metadata": {},
   "outputs": [
    {
     "data": {
      "text/plain": [
       "array([121, 120, 118,   0, 118, 119, 118,   0, 119,   0, 119, 118, 119,\n",
       "       119, 119, 118, 119, 121, 118, 120, 121,   0, 122, 119, 119, 119,\n",
       "       119, 118, 119, 122, 122, 118, 119, 118, 120, 121, 118, 121, 119,\n",
       "       121, 119, 119, 118, 119, 122, 120, 118,   0, 122, 119, 118, 119,\n",
       "       118, 120, 119, 122, 119, 121, 119, 122, 119, 118, 119, 119, 118,\n",
       "       120,   0, 119, 122,   0,   0, 118, 122, 119,   0, 120, 122,   0,\n",
       "       120, 120, 120, 119, 120,   0, 121, 120, 121, 121, 118, 122, 121,\n",
       "         0,   0, 122,   0, 118, 118, 119, 120, 120])"
      ]
     },
     "execution_count": 49,
     "metadata": {},
     "output_type": "execute_result"
    }
   ],
   "source": [
    "sample"
   ]
  },
  {
   "cell_type": "code",
   "execution_count": 54,
   "metadata": {},
   "outputs": [],
   "source": [
    "cm = plt.cm.get_cmap('RdYlBu_r')\n",
    "colors = plt.cm.GnBu(np.linspace(0.3, 1, 4))[-4:]\n",
    "colors = plt.cm.viridis(np.linspace(0.3, 1, 4))[-4:]"
   ]
  },
  {
   "cell_type": "code",
   "execution_count": 64,
   "metadata": {},
   "outputs": [
    {
     "data": {
      "image/png": "[encoded data removed]",
      "text/plain": [
       "<Figure size 360x252 with 1 Axes>"
      ]
     },
     "metadata": {
      "needs_background": "light"
     },
     "output_type": "display_data"
    }
   ],
   "source": []
  },
  {
   "cell_type": "code",
   "execution_count": 67,
   "metadata": {},
   "outputs": [],
   "source": [
    "bins = np.linspace(min(sample), max(sample), len(sample) + 1)\n",
    "digitized_total = np.digitize(sample, bins)"
   ]
  },
  {
   "cell_type": "code",
   "execution_count": 82,
   "metadata": {},
   "outputs": [
    {
     "name": "stderr",
     "output_type": "stream",
     "text": [
      "No handles with labels found to put in legend.\n"
     ]
    },
    {
     "data": {
      "image/png": "[encoded data removed]",
      "text/plain": [
       "<Figure size 360x252 with 1 Axes>"
      ]
     },
     "metadata": {
      "needs_background": "light"
     },
     "output_type": "display_data"
    }
   ],
   "source": [
    "plt.rc('text', usetex=True)\n",
    "plt.rc('text.latex', preamble=r'\\usepackage{amsfonts}')\n",
    "plt.rcParams['font.family'] = ['serif']\n",
    "#plt.rcParams['font.serif'] = ['Times New Roman']\n",
    "fig, ax = plt.subplots(nrows=1, ncols=1, figsize=(5, 3.5))\n",
    "plt.rcParams.update({'font.size': 10})\n",
    "labels = [\"test1\", \"test2\"]\n",
    "title = \"PMF: TCP SYN SCAN - Number of IDS Alerts\"\n",
    "xlabel = \"Numberof IDS Alerts\"\n",
    "\n",
    "ax.plot(xk, dist.pmf(xk), 'ro', ms=8, mec=colors[0], color=colors[0])\n",
    "ax.vlines(xk, 0, dist.pmf(xk), colors=colors[0], linestyles='-', lw=2)\n",
    "\n",
    "ax.set_title(title)\n",
    "ax.set_xlabel(xlabel, fontsize=20)\n",
    "ax.set_ylabel(r\"$\\mathbb[P][alerts]$\", fontsize=20)\n",
    "\n",
    "# set the grid on\n",
    "ax.grid('on')\n",
    "\n",
    "# remove tick marks\n",
    "ax.xaxis.set_tick_params(size=0)\n",
    "ax.yaxis.set_tick_params(size=0)\n",
    "\n",
    "# change the color of the top and right spines to opaque gray\n",
    "ax.spines['right'].set_color((.8, .8, .8))\n",
    "ax.spines['top'].set_color((.8, .8, .8))\n",
    "\n",
    "# tweak the axis labels\n",
    "xlab = ax.xaxis.get_label()\n",
    "ylab = ax.yaxis.get_label()\n",
    "xlab.set_size(10)\n",
    "ylab.set_size(10)\n",
    "#ax.set_xlim((0, 260))\n",
    "ax.set_xlim((-2, 122))\n",
    "\n",
    "if len(labels) > 1:\n",
    "    ax.legend(loc=\"upper right\")\n",
    "\n",
    "fig.tight_layout()\n",
    "plt.show()"
   ]
  },
  {
   "cell_type": "code",
   "execution_count": null,
   "metadata": {},
   "outputs": [],
   "source": [
    "dist = defender_dynamics_model.norm_num_new_alerts[(19,\"172.18.4.191\")]\n",
    "xk = np.arange(dist.support()[0], dist.support()[1])\n",
    "xk = np.array(list(filter(lambda x: dist.pmf(x) > 0, xk.tolist())))"
   ]
  },
  {
   "cell_type": "code",
   "execution_count": 84,
   "metadata": {},
   "outputs": [
    {
     "data": {
      "text/plain": [
       "\"alerts_dynamics:{'85': {'172.18.4.191': {'0': 22}, '172.18.4.191_172.18.4.2_tools=0_backdoor=0_root=0_172.18.4.3_tools=0_backdoor=0_root=1_172.18.4.79_tools=0_backdoor=0_root=1': {'0': 4}, '172.18.4.191_172.18.4.2_tools=0_backdoor=0_root=0_172.18.4.79_tools=0_backdoor=0_root=0': {'0': 3}, '172.18.4.191_172.18.4.79_tools=0_backdoor=0_root=1': {'0': 3}, '172.18.4.191_172.18.4.2_tools=0_backdoor=0_root=0_172.18.4.79_tools=0_backdoor=0_root=1': {'0': 8, '1': 1}}, '19': {'172.18.4.191': {'121': 1, '0': 1, '119': 2, '118': 1, '120': 1, '122': 1}, '172.18.4.191_172.18.4.2_tools=0_backdoor=0_root=0_172.18.4.79_tools=0_backdoor=0_root=0': {'109': 1, '0': 1, '117': 1}, '172.18.4.191_172.18.4.2_tools=0_backdoor=0_root=0_172.18.4.3_tools=0_backdoor=0_root=1_172.18.4.79_tools=0_backdoor=0_root=1': {'119': 3, '121': 1}, '172.18.4.191_172.18.4.79_tools=0_backdoor=0_root=1': {'119': 2}, '172.18.4.191_172.18.4.2_tools=0_backdoor=0_root=0_172.18.4.79_tools=0_backdoor=0_root=1': {'120': 1}, '172.18.4.191_172.18.4.3_tools=0_backdoor=0_root=1': {'119': 1}}, '11': {'172.18.4.191': {'6': 11, '0': 8, '8': 1}, '172.18.4.191_172.18.4.79_tools=0_backdoor=0_root=1': {'6': 7, '0': 2}, '172.18.4.191_172.18.4.2_tools=0_backdoor=0_root=0_172.18.4.79_tools=0_backdoor=0_root=1': {'7': 1}, '172.18.4.191_172.18.4.3_tools=0_backdoor=0_root=1': {'6': 3, '0': 1}, '172.18.4.191_172.18.4.2_tools=0_backdoor=0_root=0_172.18.4.79_tools=0_backdoor=0_root=0': {'6': 1}}, '12': {'172.18.4.191': {'6': 9, '0': 8}, '172.18.4.191_172.18.4.2_tools=0_backdoor=0_root=0_172.18.4.79_tools=0_backdoor=0_root=0': {'6': 2, '0': 2, '7': 1}, '172.18.4.191_172.18.4.79_tools=0_backdoor=0_root=1': {'0': 3, '6': 3, '7': 1, '1': 1}, '172.18.4.191_172.18.4.2_tools=0_backdoor=0_root=0_172.18.4.79_tools=0_backdoor=0_root=1': {'6': 1}, '172.18.4.191_172.18.4.3_tools=0_backdoor=0_root=1': {'6': 2, '0': 1}, '172.18.4.191_172.18.4.2_tools=0_backdoor=0_root=0_172.18.4.3_tools=0_backdoor=0_root=1_172.18.4.79_tools=0_backdoor=0_root=1': {'6': 1}}, '10': {'172.18.4.191': {'6': 6, '0': 8, '9': 1, '7': 1}, '172.18.4.191_172.18.4.2_tools=0_backdoor=0_root=0_172.18.4.79_tools=0_backdoor=0_root=0': {'6': 5, '0': 2, '8': 1, '3': 1}, '172.18.4.191_172.18.4.79_tools=0_backdoor=0_root=1': {'0': 3, '6': 3}, '172.18.4.191_172.18.4.2_tools=0_backdoor=0_root=0_172.18.4.79_tools=0_backdoor=0_root=1': {'6': 1}, '172.18.4.191_172.18.4.3_tools=0_backdoor=0_root=1': {'6': 1}, '172.18.4.191_172.18.4.2_tools=0_backdoor=0_root=0_172.18.4.3_tools=0_backdoor=0_root=1_172.18.4.79_tools=0_backdoor=0_root=1': {'1': 1, '6': 1}}, '38': {'172.18.4.191_172.18.4.2_tools=0_backdoor=0_root=0_172.18.4.79_tools=0_backdoor=0_root=0': {'0': 3}, '172.18.4.191_172.18.4.2_tools=0_backdoor=0_root=0_172.18.4.3_tools=0_backdoor=0_root=1_172.18.4.79_tools=0_backdoor=0_root=1': {'0': 7, '4': 1}, '172.18.4.191_172.18.4.79_tools=0_backdoor=0_root=1': {'0': 2}, '172.18.4.191_172.18.4.2_tools=0_backdoor=0_root=0_172.18.4.79_tools=0_backdoor=0_root=1': {'0': 2}, '172.18.4.191_172.18.4.3_tools=0_backdoor=0_root=1': {'0': 1}}, '39': {'172.18.4.191_172.18.4.2_tools=0_backdoor=0_root=0_172.18.4.79_tools=0_backdoor=0_root=0': {'0': 3}, '172.18.4.191_172.18.4.2_tools=0_backdoor=0_root=0_172.18.4.3_tools=0_backdoor=0_root=1_172.18.4.79_tools=0_backdoor=0_root=1': {'119': 2, '0': 4, '4': 1}, '172.18.4.191_172.18.4.79_tools=0_backdoor=0_root=1': {'0': 1}, '172.18.4.191_172.18.4.2_tools=0_backdoor=0_root=0_172.18.4.79_tools=0_backdoor=0_root=1': {'0': 1}, '172.18.4.191_172.18.4.3_tools=0_backdoor=0_root=1': {'0': 1}}},\\n priority_dynamics:{'85': {'172.18.4.191': {'0': 22}, '172.18.4.191_172.18.4.2_tools=0_backdoor=0_root=0_172.18.4.3_tools=0_backdoor=0_root=1_172.18.4.79_tools=0_backdoor=0_root=1': {'0': 4}, '172.18.4.191_172.18.4.2_tools=0_backdoor=0_root=0_172.18.4.79_tools=0_backdoor=0_root=0': {'0': 3}, '172.18.4.191_172.18.4.79_tools=0_backdoor=0_root=1': {'0': 3}, '172.18.4.191_172.18.4.2_tools=0_backdoor=0_root=0_172.18.4.79_tools=0_backdoor=0_root=1': {'0': 8, '2': 1}}, '19': {'172.18.4.191': {'262': 1, '0': 1, '258': 2, '256': 1, '260': 1, '264': 1}, '172.18.4.191_172.18.4.2_tools=0_backdoor=0_root=0_172.18.4.79_tools=0_backdoor=0_root=0': {'238': 1, '0': 1, '254': 1}, '172.18.4.191_172.18.4.2_tools=0_backdoor=0_root=0_172.18.4.3_tools=0_backdoor=0_root=1_172.18.4.79_tools=0_backdoor=0_root=1': {'258': 3, '262': 1}, '172.18.4.191_172.18.4.79_tools=0_backdoor=0_root=1': {'258': 2}, '172.18.4.191_172.18.4.2_tools=0_backdoor=0_root=0_172.18.4.79_tools=0_backdoor=0_root=1': {'260': 1}, '172.18.4.191_172.18.4.3_tools=0_backdoor=0_root=1': {'258': 1}}, '11': {'172.18.4.191': {'16': 11, '0': 8, '20': 1}, '172.18.4.191_172.18.4.79_tools=0_backdoor=0_root=1': {'16': 7, '0': 2}, '172.18.4.191_172.18.4.2_tools=0_backdoor=0_root=0_172.18.4.79_tools=0_backdoor=0_root=1': {'18': 1}, '172.18.4.191_172.18.4.3_tools=0_backdoor=0_root=1': {'16': 3, '0': 1}, '172.18.4.191_172.18.4.2_tools=0_backdoor=0_root=0_172.18.4.79_tools=0_backdoor=0_root=0': {'16': 1}}, '12': {'172.18.4.191': {'16': 9, '0': 8}, '172.18.4.191_172.18.4.2_tools=0_backdoor=0_root=0_172.18.4.79_tools=0_backdoor=0_root=0': {'16': 2, '0': 2, '18': 1}, '172.18.4.191_172.18.4.79_tools=0_backdoor=0_root=1': {'0': 3, '16': 3, '18': 1, '2': 1}, '172.18.4.191_172.18.4.2_tools=0_backdoor=0_root=0_172.18.4.79_tools=0_backdoor=0_root=1': {'16': 1}, '172.18.4.191_172.18.4.3_tools=0_backdoor=0_root=1': {'16': 2, '0': 1}, '172.18.4.191_172.18.4.2_tools=0_backdoor=0_root=0_172.18.4.3_tools=0_backdoor=0_root=1_172.18.4.79_tools=0_backdoor=0_root=1': {'16': 1}}, '10': {'172.18.4.191': {'16': 6, '0': 8, '22': 1, '18': 1}, '172.18.4.191_172.18.4.2_tools=0_backdoor=0_root=0_172.18.4.79_tools=0_backdoor=0_root=0': {'16': 5, '0': 2, '20': 1, '6': 1}, '172.18.4.191_172.18.4.79_tools=0_backdoor=0_root=1': {'0': 3, '16': 3}, '172.18.4.191_172.18.4.2_tools=0_backdoor=0_root=0_172.18.4.79_tools=0_backdoor=0_root=1': {'16': 1}, '172.18.4.191_172.18.4.3_tools=0_backdoor=0_root=1': {'16': 1}, '172.18.4.191_172.18.4.2_tools=0_backdoor=0_root=0_172.18.4.3_tools=0_backdoor=0_root=1_172.18.4.79_tools=0_backdoor=0_root=1': {'2': 1, '16': 1}}, '38': {'172.18.4.191_172.18.4.2_tools=0_backdoor=0_root=0_172.18.4.79_tools=0_backdoor=0_root=0': {'0': 3}, '172.18.4.191_172.18.4.2_tools=0_backdoor=0_root=0_172.18.4.3_tools=0_backdoor=0_root=1_172.18.4.79_tools=0_backdoor=0_root=1': {'0': 7, '8': 1}, '172.18.4.191_172.18.4.79_tools=0_backdoor=0_root=1': {'0': 2}, '172.18.4.191_172.18.4.2_tools=0_backdoor=0_root=0_172.18.4.79_tools=0_backdoor=0_root=1': {'0': 2}, '172.18.4.191_172.18.4.3_tools=0_backdoor=0_root=1': {'0': 1}}, '39': {'172.18.4.191_172.18.4.2_tools=0_backdoor=0_root=0_172.18.4.79_tools=0_backdoor=0_root=0': {'0': 3}, '172.18.4.191_172.18.4.2_tools=0_backdoor=0_root=0_172.18.4.3_tools=0_backdoor=0_root=1_172.18.4.79_tools=0_backdoor=0_root=1': {'258': 2, '0': 4, '8': 1}, '172.18.4.191_172.18.4.79_tools=0_backdoor=0_root=1': {'0': 1}, '172.18.4.191_172.18.4.2_tools=0_backdoor=0_root=0_172.18.4.79_tools=0_backdoor=0_root=1': {'0': 1}, '172.18.4.191_172.18.4.3_tools=0_backdoor=0_root=1': {'0': 1}}},\\n severe_alerts_dynamics:{'85': {'172.18.4.191': {'0': 22}, '172.18.4.191_172.18.4.2_tools=0_backdoor=0_root=0_172.18.4.3_tools=0_backdoor=0_root=1_172.18.4.79_tools=0_backdoor=0_root=1': {'0': 4}, '172.18.4.191_172.18.4.2_tools=0_backdoor=0_root=0_172.18.4.79_tools=0_backdoor=0_root=0': {'0': 3}, '172.18.4.191_172.18.4.79_tools=0_backdoor=0_root=1': {'0': 3}, '172.18.4.191_172.18.4.2_tools=0_backdoor=0_root=0_172.18.4.79_tools=0_backdoor=0_root=1': {'0': 9}}, '19': {'172.18.4.191': {'20': 6, '0': 1}, '172.18.4.191_172.18.4.2_tools=0_backdoor=0_root=0_172.18.4.79_tools=0_backdoor=0_root=0': {'20': 2, '0': 1}, '172.18.4.191_172.18.4.2_tools=0_backdoor=0_root=0_172.18.4.3_tools=0_backdoor=0_root=1_172.18.4.79_tools=0_backdoor=0_root=1': {'20': 4}, '172.18.4.191_172.18.4.79_tools=0_backdoor=0_root=1': {'20': 2}, '172.18.4.191_172.18.4.2_tools=0_backdoor=0_root=0_172.18.4.79_tools=0_backdoor=0_root=1': {'20': 1}, '172.18.4.191_172.18.4.3_tools=0_backdoor=0_root=1': {'20': 1}}, '11': {'172.18.4.191': {'4': 12, '0': 8}, '172.18.4.191_172.18.4.79_tools=0_backdoor=0_root=1': {'4': 7, '0': 2}, '172.18.4.191_172.18.4.2_tools=0_backdoor=0_root=0_172.18.4.79_tools=0_backdoor=0_root=1': {'4': 1}, '172.18.4.191_172.18.4.3_tools=0_backdoor=0_root=1': {'4': 3, '0': 1}, '172.18.4.191_172.18.4.2_tools=0_backdoor=0_root=0_172.18.4.79_tools=0_backdoor=0_root=0': {'4': 1}}, '12': {'172.18.4.191': {'4': 9, '0': 8}, '172.18.4.191_172.18.4.2_tools=0_backdoor=0_root=0_172.18.4.79_tools=0_backdoor=0_root=0': {'4': 3, '0': 2}, '172.18.4.191_172.18.4.79_tools=0_backdoor=0_root=1': {'0': 4, '4': 4}, '172.18.4.191_172.18.4.2_tools=0_backdoor=0_root=0_172.18.4.79_tools=0_backdoor=0_root=1': {'4': 1}, '172.18.4.191_172.18.4.3_tools=0_backdoor=0_root=1': {'4': 2, '0': 1}, '172.18.4.191_172.18.4.2_tools=0_backdoor=0_root=0_172.18.4.3_tools=0_backdoor=0_root=1_172.18.4.79_tools=0_backdoor=0_root=1': {'4': 1}}, '10': {'172.18.4.191': {'4': 8, '0': 8}, '172.18.4.191_172.18.4.2_tools=0_backdoor=0_root=0_172.18.4.79_tools=0_backdoor=0_root=0': {'4': 6, '0': 3}, '172.18.4.191_172.18.4.79_tools=0_backdoor=0_root=1': {'0': 3, '4': 3}, '172.18.4.191_172.18.4.2_tools=0_backdoor=0_root=0_172.18.4.79_tools=0_backdoor=0_root=1': {'4': 1}, '172.18.4.191_172.18.4.3_tools=0_backdoor=0_root=1': {'4': 1}, '172.18.4.191_172.18.4.2_tools=0_backdoor=0_root=0_172.18.4.3_tools=0_backdoor=0_root=1_172.18.4.79_tools=0_backdoor=0_root=1': {'0': 1, '4': 1}}, '38': {'172.18.4.191_172.18.4.2_tools=0_backdoor=0_root=0_172.18.4.79_tools=0_backdoor=0_root=0': {'0': 3}, '172.18.4.191_172.18.4.2_tools=0_backdoor=0_root=0_172.18.4.3_tools=0_backdoor=0_root=1_172.18.4.79_tools=0_backdoor=0_root=1': {'0': 8}, '172.18.4.191_172.18.4.79_tools=0_backdoor=0_root=1': {'0': 2}, '172.18.4.191_172.18.4.2_tools=0_backdoor=0_root=0_172.18.4.79_tools=0_backdoor=0_root=1': {'0': 2}, '172.18.4.191_172.18.4.3_tools=0_backdoor=0_root=1': {'0': 1}}, '39': {'172.18.4.191_172.18.4.2_tools=0_backdoor=0_root=0_172.18.4.79_tools=0_backdoor=0_root=0': {'0': 3}, '172.18.4.191_172.18.4.2_tools=0_backdoor=0_root=0_172.18.4.3_tools=0_backdoor=0_root=1_172.18.4.79_tools=0_backdoor=0_root=1': {'20': 2, '0': 5}, '172.18.4.191_172.18.4.79_tools=0_backdoor=0_root=1': {'0': 1}, '172.18.4.191_172.18.4.2_tools=0_backdoor=0_root=0_172.18.4.79_tools=0_backdoor=0_root=1': {'0': 1}, '172.18.4.191_172.18.4.3_tools=0_backdoor=0_root=1': {'0': 1}}},\\n warning_alerts_dynamics:{'85': {'172.18.4.191': {'0': 22}, '172.18.4.191_172.18.4.2_tools=0_backdoor=0_root=0_172.18.4.3_tools=0_backdoor=0_root=1_172.18.4.79_tools=0_backdoor=0_root=1': {'0': 4}, '172.18.4.191_172.18.4.2_tools=0_backdoor=0_root=0_172.18.4.79_tools=0_backdoor=0_root=0': {'0': 3}, '172.18.4.191_172.18.4.79_tools=0_backdoor=0_root=1': {'0': 3}, '172.18.4.191_172.18.4.2_tools=0_backdoor=0_root=0_172.18.4.79_tools=0_backdoor=0_root=1': {'0': 8, '1': 1}}, '19': {'172.18.4.191': {'101': 1, '0': 1, '99': 2, '98': 1, '100': 1, '102': 1}, '172.18.4.191_172.18.4.2_tools=0_backdoor=0_root=0_172.18.4.79_tools=0_backdoor=0_root=0': {'89': 1, '0': 1, '97': 1}, '172.18.4.191_172.18.4.2_tools=0_backdoor=0_root=0_172.18.4.3_tools=0_backdoor=0_root=1_172.18.4.79_tools=0_backdoor=0_root=1': {'99': 3, '101': 1}, '172.18.4.191_172.18.4.79_tools=0_backdoor=0_root=1': {'99': 2}, '172.18.4.191_172.18.4.2_tools=0_backdoor=0_root=0_172.18.4.79_tools=0_backdoor=0_root=1': {'100': 1}, '172.18.4.191_172.18.4.3_tools=0_backdoor=0_root=1': {'99': 1}}, '11': {'172.18.4.191': {'2': 11, '0': 8, '4': 1}, '172.18.4.191_172.18.4.79_tools=0_backdoor=0_root=1': {'2': 7, '0': 2}, '172.18.4.191_172.18.4.2_tools=0_backdoor=0_root=0_172.18.4.79_tools=0_backdoor=0_root=1': {'3': 1}, '172.18.4.191_172.18.4.3_tools=0_backdoor=0_root=1': {'2': 3, '0': 1}, '172.18.4.191_172.18.4.2_tools=0_backdoor=0_root=0_172.18.4.79_tools=0_backdoor=0_root=0': {'2': 1}}, '12': {'172.18.4.191': {'2': 9, '0': 8}, '172.18.4.191_172.18.4.2_tools=0_backdoor=0_root=0_172.18.4.79_tools=0_backdoor=0_root=0': {'2': 2, '0': 2, '3': 1}, '172.18.4.191_172.18.4.79_tools=0_backdoor=0_root=1': {'0': 3, '2': 3, '3': 1, '1': 1}, '172.18.4.191_172.18.4.2_tools=0_backdoor=0_root=0_172.18.4.79_tools=0_backdoor=0_root=1': {'2': 1}, '172.18.4.191_172.18.4.3_tools=0_backdoor=0_root=1': {'2': 2, '0': 1}, '172.18.4.191_172.18.4.2_tools=0_backdoor=0_root=0_172.18.4.3_tools=0_backdoor=0_root=1_172.18.4.79_tools=0_backdoor=0_root=1': {'2': 1}}, '10': {'172.18.4.191': {'2': 6, '0': 8, '5': 1, '3': 1}, '172.18.4.191_172.18.4.2_tools=0_backdoor=0_root=0_172.18.4.79_tools=0_backdoor=0_root=0': {'2': 5, '0': 2, '4': 1, '3': 1}, '172.18.4.191_172.18.4.79_tools=0_backdoor=0_root=1': {'0': 3, '2': 3}, '172.18.4.191_172.18.4.2_tools=0_backdoor=0_root=0_172.18.4.79_tools=0_backdoor=0_root=1': {'2': 1}, '172.18.4.191_172.18.4.3_tools=0_backdoor=0_root=1': {'2': 1}, '172.18.4.191_172.18.4.2_tools=0_backdoor=0_root=0_172.18.4.3_tools=0_backdoor=0_root=1_172.18.4.79_tools=0_backdoor=0_root=1': {'1': 1, '2': 1}}, '38': {'172.18.4.191_172.18.4.2_tools=0_backdoor=0_root=0_172.18.4.79_tools=0_backdoor=0_root=0': {'0': 3}, '172.18.4.191_172.18.4.2_tools=0_backdoor=0_root=0_172.18.4.3_tools=0_backdoor=0_root=1_172.18.4.79_tools=0_backdoor=0_root=1': {'0': 7, '4': 1}, '172.18.4.191_172.18.4.79_tools=0_backdoor=0_root=1': {'0': 2}, '172.18.4.191_172.18.4.2_tools=0_backdoor=0_root=0_172.18.4.79_tools=0_backdoor=0_root=1': {'0': 2}, '172.18.4.191_172.18.4.3_tools=0_backdoor=0_root=1': {'0': 1}}, '39': {'172.18.4.191_172.18.4.2_tools=0_backdoor=0_root=0_172.18.4.79_tools=0_backdoor=0_root=0': {'0': 3}, '172.18.4.191_172.18.4.2_tools=0_backdoor=0_root=0_172.18.4.3_tools=0_backdoor=0_root=1_172.18.4.79_tools=0_backdoor=0_root=1': {'99': 2, '0': 4, '4': 1}, '172.18.4.191_172.18.4.79_tools=0_backdoor=0_root=1': {'0': 1}, '172.18.4.191_172.18.4.2_tools=0_backdoor=0_root=0_172.18.4.79_tools=0_backdoor=0_root=1': {'0': 1}, '172.18.4.191_172.18.4.3_tools=0_backdoor=0_root=1': {'0': 1}}},\\n machines_dynamics_model: {'172.18.4.2': <gym_pycr_ctf.dao.defender_dynamics.defender_machine_dynamics_model.DefenderMachineDynamicsModel object at 0x7f2c58d7b450>, '172.18.4.3': <gym_pycr_ctf.dao.defender_dynamics.defender_machine_dynamics_model.DefenderMachineDynamicsModel object at 0x7f2c58d7b490>, '172.18.4.10': <gym_pycr_ctf.dao.defender_dynamics.defender_machine_dynamics_model.DefenderMachineDynamicsModel object at 0x7f2c58d7b4d0>, '172.18.4.21': <gym_pycr_ctf.dao.defender_dynamics.defender_machine_dynamics_model.DefenderMachineDynamicsModel object at 0x7f2c58d7b510>, '172.18.4.79': <gym_pycr_ctf.dao.defender_dynamics.defender_machine_dynamics_model.DefenderMachineDynamicsModel object at 0x7f2c58d7b550>}\\n\""
      ]
     },
     "execution_count": 84,
     "metadata": {},
     "output_type": "execute_result"
    }
   ],
   "source": [
    "str(defender_dynamics_model)"
   ]
  },
  {
   "cell_type": "code",
   "execution_count": null,
   "metadata": {},
   "outputs": [],
   "source": [
    "plt.rc('text', usetex=True)\n",
    "plt.rc('text.latex', preamble=r'\\usepackage{amsfonts}')\n",
    "plt.rcParams['font.family'] = ['serif']\n",
    "#plt.rcParams['font.serif'] = ['Times New Roman']\n",
    "fig, ax = plt.subplots(nrows=1, ncols=1, figsize=(5, 3.5))\n",
    "plt.rcParams.update({'font.size': 10})\n",
    "labels = [\"test1\", \"test2\"]\n",
    "title = \"PMF: TCP SYN SCAN - Number of IDS Alerts\"\n",
    "xlabel = \"Numberof IDS Alerts\"\n",
    "\n",
    "ax.plot(xk, dist.pmf(xk), 'ro', ms=8, mec=colors[0], color=colors[0])\n",
    "ax.vlines(xk, 0, dist.pmf(xk), colors=colors[0], linestyles='-', lw=2)\n",
    "\n",
    "ax.set_title(title)\n",
    "ax.set_xlabel(xlabel, fontsize=20)\n",
    "ax.set_ylabel(r\"$\\mathbb[P][alerts]$\", fontsize=20)\n",
    "\n",
    "# set the grid on\n",
    "ax.grid('on')\n",
    "\n",
    "# remove tick marks\n",
    "ax.xaxis.set_tick_params(size=0)\n",
    "ax.yaxis.set_tick_params(size=0)\n",
    "\n",
    "# change the color of the top and right spines to opaque gray\n",
    "ax.spines['right'].set_color((.8, .8, .8))\n",
    "ax.spines['top'].set_color((.8, .8, .8))\n",
    "\n",
    "# tweak the axis labels\n",
    "xlab = ax.xaxis.get_label()\n",
    "ylab = ax.yaxis.get_label()\n",
    "xlab.set_size(10)\n",
    "ylab.set_size(10)\n",
    "#ax.set_xlim((0, 260))\n",
    "ax.set_xlim((-2, 122))\n",
    "\n",
    "if len(labels) > 1:\n",
    "    ax.legend(loc=\"upper right\")\n",
    "\n",
    "fig.tight_layout()\n",
    "plt.show()"
   ]
  }
 ],
 "metadata": {
  "kernelspec": {
   "display_name": "Python 3",
   "language": "python",
   "name": "python3"
  },
  "language_info": {
   "codemirror_mode": {
    "name": "ipython",
    "version": 3
   },
   "file_extension": ".py",
   "mimetype": "text/x-python",
   "name": "python",
   "nbconvert_exporter": "python",
   "pygments_lexer": "ipython3",
   "version": "3.7.4"
  }
 },
 "nbformat": 4,
 "nbformat_minor": 2
}
